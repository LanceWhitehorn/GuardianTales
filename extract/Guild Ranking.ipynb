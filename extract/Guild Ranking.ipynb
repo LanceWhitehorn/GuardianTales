{
 "cells": [
  {
   "cell_type": "markdown",
   "metadata": {},
   "source": [
    "## Setup\n",
    "Simply define the month with the format \"mmmYYYY\""
   ]
  },
  {
   "cell_type": "code",
   "execution_count": 1,
   "metadata": {},
   "outputs": [
    {
     "name": "stdout",
     "output_type": "stream",
     "text": [
      "Feb2022\n",
      "Feb2022_guilds\n"
     ]
    }
   ],
   "source": [
    "month = 'Feb2022'\n",
    "guild_raid = month.replace(' ', '') + '_guilds'\n",
    "print(month)\n",
    "print(guild_raid)"
   ]
  },
  {
   "cell_type": "code",
   "execution_count": 2,
   "metadata": {},
   "outputs": [],
   "source": [
    "# Folder paths\n",
    "directory = f'source/screenshots/{month}/{guild_raid}'\n",
    "video_loc = f'source/videos'\n",
    "portrait_loc = f'source/portraits'\n",
    "output_loc = f'source/output/{month}'"
   ]
  },
  {
   "cell_type": "markdown",
   "metadata": {},
   "source": [
    "## Other Scripts"
   ]
  },
  {
   "cell_type": "code",
   "execution_count": 3,
   "metadata": {},
   "outputs": [],
   "source": [
    "%run utils/imports.ipynb\n",
    "%run utils/screenshots.ipynb"
   ]
  },
  {
   "cell_type": "code",
   "execution_count": 4,
   "metadata": {},
   "outputs": [
    {
     "name": "stdout",
     "output_type": "stream",
     "text": [
      "source/videos/Feb2022\n",
      "source/screenshots/Feb2022/Feb2022_guilds\n"
     ]
    }
   ],
   "source": [
    "print(f'{video_loc}/{month}')\n",
    "print(f'{directory}')"
   ]
  },
  {
   "cell_type": "markdown",
   "metadata": {},
   "source": [
    "## Extractor"
   ]
  },
  {
   "cell_type": "code",
   "execution_count": 5,
   "metadata": {},
   "outputs": [],
   "source": [
    "def ultExtract(date, freq):\n",
    "    \n",
    "    start_time = time.time()\n",
    "    get_frames(f'{video_loc}/{guild_raid}.mp4', directory, freq, 300)\n",
    "    est_time = time.time() - start_time\n",
    "    minutes = math.floor(est_time / 60)\n",
    "    seconds = math.ceil(est_time % 60)\n",
    "    print(f'Finished taking screenshots in: {minutes}m {seconds}s')\n",
    "    \n",
    "    ######################\n",
    "    #     Extraction     #\n",
    "    ######################\n",
    "    \n",
    "    def extract(file):\n",
    "        temp_names = []\n",
    "        temp_bosses = []\n",
    "        temp_lvl = []\n",
    "        temp_heroes = []\n",
    "        \n",
    "        screenshot = Image.open(f'{directory}/{file}.jpg')\n",
    "        width, height = screenshot.size\n",
    "        \n",
    "        ##################\n",
    "        #     Damage     #\n",
    "        ##################\n",
    "        dmg_left = 1600\n",
    "        dmg_top = 300\n",
    "        dmg_right = dmg_left + 300\n",
    "        dmg_bottom = dmg_top + 500\n",
    "        dmg = screenshot.crop((dmg_left, dmg_top, dmg_right, dmg_bottom))\n",
    "        #display(dmg)\n",
    "        dmg = np.array(dmg)\n",
    "        gray_img = cv2.cvtColor(dmg, cv2.COLOR_BGR2GRAY)\n",
    "        threshold_img = cv2.threshold(gray_img, 0, 255, cv2.THRESH_BINARY_INV | cv2.THRESH_OTSU)[1]\n",
    "        details = pytesseract.image_to_data(threshold_img, lang='eng', output_type=Output.DATAFRAME)\n",
    "        coord = details[['text', 'left', 'top']]\n",
    "        coord = coord.dropna()\n",
    "        # Try converting values to integers for easier handling\n",
    "        def tryConvert(value):\n",
    "            try:        \n",
    "                value = int(re.sub('\\W+', '', value))\n",
    "            except:\n",
    "                pass\n",
    "            return(value)\n",
    "        coord['text'] = coord['text'].apply(lambda x: tryConvert(x))\n",
    "        \n",
    "        def selectRows(value):\n",
    "            if (len(str(value)) >= 9 and len(str(value)) <= 11) and isinstance(value, (int, np.integer)):\n",
    "                return True\n",
    "            else:\n",
    "                return False\n",
    "        coord = coord[coord[['text']].apply(lambda x: selectRows(x[0]), axis=1)]\n",
    "        coord = coord.drop_duplicates(subset=['text']).reset_index(drop=True)\n",
    "        #display(coord)\n",
    "    \n",
    "        for i in range(len(coord)):\n",
    "        \n",
    "            #################\n",
    "            #     Names     #\n",
    "            #################\n",
    "            # The name_left is dependent on the number of digits in the damage hence the extra bit at the end\n",
    "            name_left = dmg_left + coord['left'][i] - 860 - 30*(10 - len(str(coord['text'][i])))\n",
    "            name_top = dmg_top + coord['top'][i] - 20\n",
    "            name_right = name_left + 600\n",
    "            name_bottom = name_top + 60\n",
    "            cropped = screenshot.crop((name_left, name_top, name_right, name_bottom)).convert('RGB')\n",
    "            #display(cropped)\n",
    "            open_cv_img = np.array(cropped) \n",
    "            gray_img = cv2.cvtColor(open_cv_img, cv2.COLOR_BGR2GRAY)\n",
    "            threshold_img = cv2.threshold(gray_img, 0, 255, cv2.THRESH_BINARY_INV | cv2.THRESH_OTSU)[1]\n",
    "            details = pytesseract.image_to_data(threshold_img, lang='chi_sim', output_type=Output.DATAFRAME)\n",
    "            names = details['text'].tolist()\n",
    "            names = [n for n in names if str(n) != 'nan']\n",
    "            #print(names)\n",
    "            try:\n",
    "                name = ''.join(names)\n",
    "                temp_names.append(name)\n",
    "            except:\n",
    "                try:\n",
    "                    temp_names.append(names[0])\n",
    "                except:\n",
    "                    temp_names.append(None)\n",
    "        coord['name'] = temp_names\n",
    "        return coord[['name', 'text']]\n",
    "                    \n",
    "    ###################\n",
    "    #     Running     #\n",
    "    ###################\n",
    "        \n",
    "    no_of_files = len(os.listdir(f'{directory}'))\n",
    "    start_time = time.time()\n",
    "    df = [extract('0')]\n",
    "    est_time = time.time() - start_time\n",
    "    total_est_time = est_time * no_of_files\n",
    "    minutes = math.floor(total_est_time / 60)\n",
    "    seconds = math.ceil(total_est_time % 60)\n",
    "    \n",
    "    print('Starting the extraction')\n",
    "    print(f'Estimated time to completion: {minutes}m {seconds}s')\n",
    "\n",
    "    bar = IntProgress(min=0, max=no_of_files-1) # instantiate the bar\n",
    "    count = widgets.BoundedIntText(value=0, description=f'Out of {no_of_files-1}:')\n",
    "    interface = HBox([bar, count])\n",
    "    display(interface)\n",
    "    for i in range(1, no_of_files):\n",
    "        df.append(extract(f'{i}'))\n",
    "        bar.value += 1\n",
    "        count.value += 1\n",
    "    \n",
    "    return df"
   ]
  },
  {
   "cell_type": "code",
   "execution_count": 6,
   "metadata": {},
   "outputs": [
    {
     "name": "stdout",
     "output_type": "stream",
     "text": [
      "Finished taking screenshots in: 0m 14s\n",
      "Starting the extraction\n",
      "Estimated time to completion: 17m 7s\n"
     ]
    },
    {
     "data": {
      "application/vnd.jupyter.widget-view+json": {
       "model_id": "76270e374fe1497e9ecdbdbc69fa0c42",
       "version_major": 2,
       "version_minor": 0
      },
      "text/plain": [
       "HBox(children=(IntProgress(value=0, max=165), BoundedIntText(value=0, description='Out of 165:')))"
      ]
     },
     "metadata": {},
     "output_type": "display_data"
    },
    {
     "name": "stdout",
     "output_type": "stream",
     "text": [
      "Wall time: 13min 7s\n"
     ]
    }
   ],
   "source": [
    "%%time\n",
    "df = ultExtract(guild_raid, 0.1)"
   ]
  },
  {
   "cell_type": "code",
   "execution_count": 7,
   "metadata": {},
   "outputs": [
    {
     "data": {
      "text/plain": [
       "(593, 3)"
      ]
     },
     "execution_count": 7,
     "metadata": {},
     "output_type": "execute_result"
    }
   ],
   "source": [
    "combined = df[0]\n",
    "combined['frame'] = [0]*len(df[0])\n",
    "for i in range(1,len(df)):\n",
    "    temp = df[i]\n",
    "    temp['frame'] = [i]*len(temp)\n",
    "    combined = combined.append(temp).reset_index(drop=True)\n",
    "combined.shape"
   ]
  },
  {
   "cell_type": "code",
   "execution_count": 8,
   "metadata": {},
   "outputs": [
    {
     "name": "stdout",
     "output_type": "stream",
     "text": [
      "(102, 3)\n"
     ]
    },
    {
     "data": {
      "text/html": [
       "<div>\n",
       "<style scoped>\n",
       "    .dataframe tbody tr th:only-of-type {\n",
       "        vertical-align: middle;\n",
       "    }\n",
       "\n",
       "    .dataframe tbody tr th {\n",
       "        vertical-align: top;\n",
       "    }\n",
       "\n",
       "    .dataframe thead th {\n",
       "        text-align: right;\n",
       "    }\n",
       "</style>\n",
       "<table border=\"1\" class=\"dataframe\">\n",
       "  <thead>\n",
       "    <tr style=\"text-align: right;\">\n",
       "      <th></th>\n",
       "      <th>name</th>\n",
       "      <th>text</th>\n",
       "      <th>frame</th>\n",
       "    </tr>\n",
       "  </thead>\n",
       "  <tbody>\n",
       "    <tr>\n",
       "      <th>0</th>\n",
       "      <td>[潭拉斯圆家地理</td>\n",
       "      <td>11444130863</td>\n",
       "      <td>0</td>\n",
       "    </tr>\n",
       "    <tr>\n",
       "      <th>1</th>\n",
       "      <td>Vinter</td>\n",
       "      <td>11095306840</td>\n",
       "      <td>0</td>\n",
       "    </tr>\n",
       "    <tr>\n",
       "      <th>2</th>\n",
       "      <td>Vegemites</td>\n",
       "      <td>9590903718</td>\n",
       "      <td>0</td>\n",
       "    </tr>\n",
       "    <tr>\n",
       "      <th>3</th>\n",
       "      <td>MewMewCafe</td>\n",
       "      <td>8645840990</td>\n",
       "      <td>0</td>\n",
       "    </tr>\n",
       "    <tr>\n",
       "      <th>4</th>\n",
       "      <td>Dollars</td>\n",
       "      <td>7496756222</td>\n",
       "      <td>26</td>\n",
       "    </tr>\n",
       "  </tbody>\n",
       "</table>\n",
       "</div>"
      ],
      "text/plain": [
       "         name         text  frame\n",
       "0    [潭拉斯圆家地理  11444130863      0\n",
       "1      Vinter  11095306840      0\n",
       "2   Vegemites   9590903718      0\n",
       "3  MewMewCafe   8645840990      0\n",
       "4     Dollars   7496756222     26"
      ]
     },
     "execution_count": 8,
     "metadata": {},
     "output_type": "execute_result"
    }
   ],
   "source": [
    "export = combined.drop_duplicates(subset=['text'], keep='first')\n",
    "export = export.drop_duplicates(subset=['name'], keep='first')\n",
    "export = export.sort_values(by=['text'], ascending=False)\n",
    "export = export.reset_index(drop=True)\n",
    "print(export.shape)\n",
    "export.head()"
   ]
  },
  {
   "cell_type": "code",
   "execution_count": 10,
   "metadata": {},
   "outputs": [
    {
     "name": "stdout",
     "output_type": "stream",
     "text": [
      "source/output/Feb2022/Feb2022_guilds.xlsx\n"
     ]
    }
   ],
   "source": [
    "outputFolder = f'source/output/{month}'\n",
    "try:\n",
    "    if not os.path.exists(outputFolder): \n",
    "        os.makedirs(outputFolder)\n",
    "except OSError: \n",
    "    print ('Error! Could not create a directory')\n",
    "try:  \n",
    "    if not os.path.exists(outputFolder):\n",
    "        os.makedirs(outputFolder)\n",
    "except OSError: \n",
    "    print ('Error! Could not create a directory') \n",
    "\n",
    "print(f'source/output/{month}/{guild_raid}.xlsx')\n",
    "export.to_excel(f'source/output/{month}/{guild_raid}.xlsx', index=True)"
   ]
  }
 ],
 "metadata": {
  "kernelspec": {
   "display_name": "Python 3",
   "language": "python",
   "name": "python3"
  },
  "language_info": {
   "codemirror_mode": {
    "name": "ipython",
    "version": 3
   },
   "file_extension": ".py",
   "mimetype": "text/x-python",
   "name": "python",
   "nbconvert_exporter": "python",
   "pygments_lexer": "ipython3",
   "version": "3.8.8"
  }
 },
 "nbformat": 4,
 "nbformat_minor": 4
}
