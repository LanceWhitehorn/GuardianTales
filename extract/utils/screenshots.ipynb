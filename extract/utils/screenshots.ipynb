{
 "cells": [
  {
   "cell_type": "code",
   "execution_count": null,
   "metadata": {},
   "outputs": [],
   "source": [
    "def get_frames(inputFile, outputFolder, step, count):\n",
    "    '''\n",
    "    Input:\n",
    "    inputFile - name of the input file with directoy\n",
    "    outputFolder - name and path of the folder to save the results\n",
    "    step - time lapse between each step (in seconds)\n",
    "    count - number of screenshots\n",
    "    Output - 'count' number of screenshots that are 'step' seconds apart\n",
    "              created from video 'inputFile' and stored in folder 'outputFolder'\n",
    "    Function Call - get_frames('test.mp4', 'data', 10, 10)\n",
    "    '''\n",
    "\n",
    "    #initializing local variables\n",
    "    step = step\n",
    "    frames_count = count\n",
    "\n",
    "    currentframe = 0\n",
    "    frames_captured = 0\n",
    "\n",
    "    #creating a folder\n",
    "    try:  \n",
    "        if not os.path.exists(outputFolder): \n",
    "            os.makedirs(outputFolder)\n",
    "    except OSError: \n",
    "        print ('Error! Could not create a directory')\n",
    "    try:  \n",
    "        if not os.path.exists(outputFolder):\n",
    "            os.makedirs(outputFolder)\n",
    "    except OSError: \n",
    "        print ('Error! Could not create a directory') \n",
    "\n",
    "    #reading the video from specified path \n",
    "    cam = cv2.VideoCapture(inputFile)\n",
    "\n",
    "    #reading the number of frames at that particular second\n",
    "    frame_per_second = cam.get(cv2.CAP_PROP_FPS)\n",
    "\n",
    "    while (True):\n",
    "        ret, frame = cam.read()\n",
    "        if ret:\n",
    "            if currentframe > (step*frame_per_second):  \n",
    "                currentframe = 0\n",
    "                #saving the frames (screenshots)\n",
    "                name = f'{outputFolder}/{str(frames_captured)}.jpg'\n",
    "                #print ('Creating ' + name) \n",
    "\n",
    "                cv2.imwrite(name, frame)       \n",
    "                frames_captured+=1\n",
    "\n",
    "                #breaking the loop when count achieved\n",
    "                if frames_captured > frames_count-1:\n",
    "                    ret = False\n",
    "            currentframe += 1           \n",
    "        if ret == False:\n",
    "            break"
   ]
  }
 ],
 "metadata": {
  "kernelspec": {
   "display_name": "Python 3",
   "language": "python",
   "name": "python3"
  },
  "language_info": {
   "codemirror_mode": {
    "name": "ipython",
    "version": 3
   },
   "file_extension": ".py",
   "mimetype": "text/x-python",
   "name": "python",
   "nbconvert_exporter": "python",
   "pygments_lexer": "ipython3",
   "version": "3.8.8"
  }
 },
 "nbformat": 4,
 "nbformat_minor": 4
}
